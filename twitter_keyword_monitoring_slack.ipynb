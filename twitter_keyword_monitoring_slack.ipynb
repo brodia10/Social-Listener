{
 "cells": [
  {
   "cell_type": "code",
   "execution_count": null,
   "id": "bf77aed4",
   "metadata": {},
   "outputs": [],
   "source": [
    "import json\n",
    "import requests"
   ]
  },
  {
   "cell_type": "markdown",
   "id": "3f30c4be",
   "metadata": {},
   "source": [
    "## How to create a Twitter keyword monitor with Python and Slack notifications\n",
    "\n",
    "This reply sparked an idea to build a keyword monitoring tool for Twitter with Slack notifications whenever someone tweets anything with the keywords I'm monitoring ⬇️\n",
    "\n",
    "![Monitoring tool idea](https://d2pwmb8xsybju4.cloudfront.net/posts/create-keyword-monitoring-in-twitter-with-slack-notifications/0_idea_cropped.png \"Monitoring tool idea\")\n",
    "\n",
    "The reply is to this awesome Indie Hackers post [$0-$20K in 2 months,\n",
    "here's tactics that worked](https://www.indiehackers.com/post/0-20k-in-2-months-heres-tactics-that-worked-b4d49794f6 \"$0 - $20K in 2 months,\n",
    "here's tactics that worked\")\n",
    "\n",
    "**In this walkthrough, we'll build a social media listener for indie hackers looking to shamelessly promote what they're making by monitoring the keyword:**\n",
    "\n",
    "Detailed step-by-step intructions for this repo in this blog post: https://norahsakal.com/blog/create-keyword-monitoring-in-twitter-with-python-with-slack-notifications"
   ]
  },
  {
   "cell_type": "markdown",
   "id": "2e177b8e",
   "metadata": {},
   "source": [
    "# Fetch tweets with your keywords"
   ]
  },
  {
   "cell_type": "code",
   "execution_count": null,
   "id": "cc71ac88",
   "metadata": {},
   "outputs": [],
   "source": [
    "bearer_token = \"YOUR_BEARER_TOKEN\"\n",
    "\n",
    "search_url = \"https://api.twitter.com/2/tweets/search/recent\"\n",
    "\n",
    "search_headers = {\n",
    "    'Authorization': f'Bearer {bearer_token}' \n",
    "}\n",
    "search_resp = requests.get(\n",
    "    search_url,\n",
    "    headers=search_headers, \n",
    "    params={\n",
    "        \"query\":'\"what are you building\" -is:retweet -is:reply OR \"what are you working on\" -is:retweet -is:reply OR \"anyone building cool things\" -is:retweet -is:reply',\n",
    "        'tweet.fields':'author_id,public_metrics,created_at,entities',\n",
    "        'expansions':'author_id',\n",
    "        'user.fields':'username,description,public_metrics,profile_image_url',\n",
    "        \"max_results\":20 # Optional\n",
    "    }\n",
    ")\n",
    "search_resp.json()"
   ]
  },
  {
   "cell_type": "markdown",
   "id": "a6b1f78a",
   "metadata": {},
   "source": [
    "# Create dict with data from each tweet"
   ]
  },
  {
   "cell_type": "code",
   "execution_count": null,
   "id": "9504b2e4",
   "metadata": {},
   "outputs": [],
   "source": [
    "tweet_summary = []\n",
    "for i,tweet in enumerate(search_resp.json()['data']):\n",
    "    \n",
    "    temp_dict = {}\n",
    "    \n",
    "    # Tweet data\n",
    "    temp_dict['tweet'] = tweet['text']\n",
    "    temp_dict['created_at'] = tweet['created_at']\n",
    "    temp_dict['retweet_count'] = tweet['public_metrics']['retweet_count']\n",
    "    temp_dict['reply_count'] = tweet['public_metrics']['reply_count']\n",
    "    temp_dict['like_count'] = tweet['public_metrics']['like_count']\n",
    "    temp_dict['quote_count'] = tweet['public_metrics']['quote_count']\n",
    "    temp_dict['tweet_url'] = f\"https://twitter.com/{search_resp.json()['includes']['users'][i]['username']}/status/{tweet['id']}\"\n",
    "    \n",
    "    # User data\n",
    "    temp_dict['user_description'] = search_resp.json()['includes']['users'][i]['description']\n",
    "    temp_dict['name'] = search_resp.json()['includes']['users'][i]['name']\n",
    "    temp_dict['username'] = search_resp.json()['includes']['users'][i]['username']\n",
    "    temp_dict['followers_count'] = search_resp.json()['includes']['users'][i]['public_metrics']['followers_count']\n",
    "    temp_dict['following_count'] = search_resp.json()['includes']['users'][i]['public_metrics']['following_count']\n",
    "    temp_dict['tweet_count'] = search_resp.json()['includes']['users'][i]['public_metrics']['tweet_count']\n",
    "    temp_dict['profile_img'] = search_resp.json()['includes']['users'][i]['profile_image_url']\n",
    "    \n",
    "    # Check if hashtags in tweet\n",
    "    if 'entities' in tweet:\n",
    "        if 'hashtags' in tweet['entities']:\n",
    "            tweet_hashtags = []\n",
    "            for hashtag in tweet['entities']['hashtags']:\n",
    "                tweet_hashtags.append(hashtag['tag'])\n",
    "            temp_dict['tweet_hashtags'] = tweet_hashtags\n",
    "    \n",
    "    tweet_summary.append(temp_dict)\n",
    "    \n",
    "tweet_summary\n"
   ]
  },
  {
   "cell_type": "markdown",
   "id": "a9bc38f4",
   "metadata": {},
   "source": [
    "# Send tweets to Slack"
   ]
  },
  {
   "cell_type": "code",
   "execution_count": null,
   "id": "1f90f1ec",
   "metadata": {},
   "outputs": [],
   "source": [
    "slack_webhook_url = \"YOUR_SLACK_WEBHOOK_URL\"\n",
    "\n",
    "for tweet in tweet_summary:\n",
    "    temp_tweet = tweet['tweet'].replace('\\n', ' ')  # Optional to remove \\n\n",
    "    slack_data = {\n",
    "        \"icon_emoji\": ':mega:',\n",
    "        \"text\": f\"Promote yourself here \\n *tweet:* {temp_tweet} \\n *Author:* {tweet['name']} \\n *Description:* {tweet['user_description']} \\n *URL:* {tweet['tweet_url']}\",\n",
    "        \"username\": \"New promotion tweet 📣\",\n",
    "        \"channel\":'#integration-testing',\n",
    "        \"attachments\": [\n",
    "            {\n",
    "                \"fallback\": \"Required plain-text summary of the attachment.\",\n",
    "                \"text\": \"Optional text that appears within the attachment\",\n",
    "                \"image_url\": f\"{tweet['profile_img']}\",\n",
    "                \"thumb_url\": f\"{tweet['profile_img']}\",\n",
    "            }\n",
    "        ]\n",
    "    }\n",
    "    \n",
    "    # Check if hashtag\n",
    "    if 'tweet_hashtags' in tweet:\n",
    "        slack_data['text'] += f\"\\n *Hashtags:* {', '.join(tweet['tweet_hashtags'])}\" \n",
    "    \n",
    "    response = requests.post(slack_webhook_url, data=json.dumps(slack_data),\n",
    "                             headers={\"Content-Type\": \"application/json\"})\n",
    "    print(response.text)"
   ]
  },
  {
   "cell_type": "code",
   "execution_count": null,
   "id": "79d22bd4",
   "metadata": {},
   "outputs": [],
   "source": []
  }
 ],
 "metadata": {
  "kernelspec": {
   "display_name": "Python 3",
   "language": "python",
   "name": "python3"
  },
  "language_info": {
   "codemirror_mode": {
    "name": "ipython",
    "version": 3
   },
   "file_extension": ".py",
   "mimetype": "text/x-python",
   "name": "python",
   "nbconvert_exporter": "python",
   "pygments_lexer": "ipython3",
   "version": "3.8.5"
  }
 },
 "nbformat": 4,
 "nbformat_minor": 5
}
